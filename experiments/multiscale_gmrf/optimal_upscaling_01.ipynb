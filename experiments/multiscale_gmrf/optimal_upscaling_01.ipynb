{
 "cells": [
  {
   "cell_type": "markdown",
   "metadata": {
    "toc": true
   },
   "source": [
    "<h1>Table of Contents<span class=\"tocSkip\"></span></h1>\n",
    "<div class=\"toc\"><ul class=\"toc-item\"><li><span><a href=\"#Introduction\" data-toc-modified-id=\"Introduction-1\"><span class=\"toc-item-num\">1&nbsp;&nbsp;</span>Introduction</a></span><ul class=\"toc-item\"><li><span><a href=\"#Simulation\" data-toc-modified-id=\"Simulation-1.1\"><span class=\"toc-item-num\">1.1&nbsp;&nbsp;</span>Simulation</a></span><ul class=\"toc-item\"><li><span><a href=\"#The-Mesh\" data-toc-modified-id=\"The-Mesh-1.1.1\"><span class=\"toc-item-num\">1.1.1&nbsp;&nbsp;</span>The Mesh</a></span></li><li><span><a href=\"#The-Elements-and-DofHandlers\" data-toc-modified-id=\"The-Elements-and-DofHandlers-1.1.2\"><span class=\"toc-item-num\">1.1.2&nbsp;&nbsp;</span>The Elements and DofHandlers</a></span></li><li><span><a href=\"#The-Gaussian-Field\" data-toc-modified-id=\"The-Gaussian-Field-1.1.3\"><span class=\"toc-item-num\">1.1.3&nbsp;&nbsp;</span>The Gaussian Field</a></span></li><li><span><a href=\"#Assembly\" data-toc-modified-id=\"Assembly-1.1.4\"><span class=\"toc-item-num\">1.1.4&nbsp;&nbsp;</span>Assembly</a></span></li><li><span><a href=\"#Solver\" data-toc-modified-id=\"Solver-1.1.5\"><span class=\"toc-item-num\">1.1.5&nbsp;&nbsp;</span>Solver</a></span></li><li><span><a href=\"#Quantity-of-Interest\" data-toc-modified-id=\"Quantity-of-Interest-1.1.6\"><span class=\"toc-item-num\">1.1.6&nbsp;&nbsp;</span>Quantity of Interest</a></span></li></ul></li></ul></li><li><span><a href=\"#Multiresolution-Approximation\" data-toc-modified-id=\"Multiresolution-Approximation-2\"><span class=\"toc-item-num\">2&nbsp;&nbsp;</span>Multiresolution Approximation</a></span></li></ul></div>"
   ]
  },
  {
   "cell_type": "markdown",
   "metadata": {},
   "source": [
    "# Optimal Upscaling"
   ]
  },
  {
   "cell_type": "code",
   "execution_count": 7,
   "metadata": {},
   "outputs": [],
   "source": [
    "# Add src folder to path\n",
    "import os\n",
    "import sys\n",
    "\n",
    "sys.path.insert(0,'../../src/')"
   ]
  },
  {
   "cell_type": "markdown",
   "metadata": {},
   "source": [
    "## Introduction\n",
    "\n",
    "Suppose $u$ satisfies the elliptic partial differential equation \n",
    "\n",
    "\\begin{align*}\n",
    "-\\nabla \\cdot (\\exp(q) \\nabla u) = 1, \\ \\ &x \\in D,\\\\\n",
    "u = 0, \\ \\ &x \\in \\partial D\n",
    "\\end{align*}\n",
    "\n",
    "where $D=[0,1]^2$ is a physical domain and $q(x,\\omega)$ is a Gaussian random field. Moreover, let \n",
    "\n",
    "\\begin{equation}\n",
    "J = \\iint_{R}  u(x,\\omega) dx, \\ \\ \\text{where } R = [0.75,1]^2,    \n",
    "\\end{equation}\n",
    "\n",
    "be a physical quantity of interest for which we want to compute statistics using Monte Carlo sampling or whatever."
   ]
  },
  {
   "cell_type": "markdown",
   "metadata": {},
   "source": [
    "### Simulation\n",
    "\n",
    "First, we show how to generate a single sample of $J$. Specifically, we will\n",
    "\n",
    "1. Construct the computational mesh and define the elements \n",
    "2. Generate samples of the random parameter $q$\n",
    "3. Assemble the finite element system\n",
    "4. Solve the system for $u$\n",
    "5. Compute the associated $J$\n",
    "\n",
    "We will use the ```quadmesh``` package, obtainable [here](https://github.com/hvanwyk/quadmesh)."
   ]
  },
  {
   "cell_type": "markdown",
   "metadata": {},
   "source": [
    "#### The Mesh\n",
    "\n",
    "The ```mesh``` module contains methods for generating and working with meshes. In this work, we use quadrilateral meshes, since they can be readily refined. On our mesh, we need to mark the boundary $\\partial D$ and the region of integration $R$. To do this, we use marking functions that check whether a point lies in the given region."
   ]
  },
  {
   "cell_type": "code",
   "execution_count": 43,
   "metadata": {},
   "outputs": [
    {
     "data": {
      "image/png": "[encoded data removed]",
      "text/plain": [
       "<Figure size 432x288 with 1 Axes>"
      ]
     },
     "metadata": {
      "needs_background": "light"
     },
     "output_type": "display_data"
    }
   ],
   "source": [
    "from mesh import QuadMesh\n",
    "from plot import Plot\n",
    "\n",
    "plot = Plot()\n",
    "\n",
    "# Define the Quadrilateral Mesh\n",
    "mesh = QuadMesh(resolution=(16,16))\n",
    "\n",
    "# Mark boundary\n",
    "bnd_fn = lambda x,y: abs(x)<1e-6 or abs(1-x)<1e-6 or abs(y)<1e-6 or abs(1-y)<1e-6 \n",
    "mesh.mark_region('bnd', bnd_fn, entity_type='half_edge', on_boundary=True)\n",
    "\n",
    "# Mark averaging region\n",
    "dmn_fn = lambda x,y: x>=0.75 and x<=1 and y>=0.75 and y<=1\n",
    "mesh.mark_region('dmn', dmn_fn, entity_type='cell', strict_containment=True, on_boundary=False) \n",
    "#cells = mesh.get_region(flag='dmn', entity_type='cell', on_boundary=False, subforest_flag=None)\n",
    "plot.mesh(mesh, regions=[('bnd','edge'),('dmn','cell')])"
   ]
  },
  {
   "cell_type": "markdown",
   "metadata": {},
   "source": [
    "#### The Elements and DofHandlers\n",
    "\n",
    "Next we need to define the approximation space, i.e. the elements. This is done using the ```QuadFE``` class. \n",
    "- Here we use piecewise constant elements (```DQ0```) to represent the parameter and piecewise linear elements (```Q1```) for the solution. \n",
    "- Since we would like to have multiple different elements associated with the same mesh, we handle the element degrees of freedom by means of a **degrees-of-freedom-handler** or ```DofHandler```, which contains information of the ```mesh``` and the ```element```. \n",
    "- For the assembly and function definitions, we may also require ```Basis``` functions. These also encode derivative information. "
   ]
  },
  {
   "cell_type": "code",
   "execution_count": 17,
   "metadata": {},
   "outputs": [],
   "source": [
    "from fem import QuadFE, DofHandler, Basis\n",
    "\n",
    "#\n",
    "# Elements\n",
    "#  \n",
    "Q0 = QuadFE(mesh.dim(), 'DQ0')  # \"Discontinuous Quadratic of Degree 0\", for parameter \n",
    "Q1 = QuadFE(mesh.dim(), 'Q1')  # \"Continuous Linear\" for output\n",
    "\n",
    "#\n",
    "# DofHandlers\n",
    "# \n",
    "dQ0 = DofHandler(mesh,Q0)\n",
    "dQ1 = DofHandler(mesh,Q1)\n",
    "\n",
    "#\n",
    "# Distribute DOFs, i.e. store the dof-indices in the dofhandler\n",
    "#\n",
    "dQ0.distribute_dofs()\n",
    "dQ1.distribute_dofs()\n",
    "\n",
    "#\n",
    "# Basis functions for assembly and definition of Nodal functions\n",
    "#\n",
    "phi_0 = Basis(dQ0)  # piecewise constant\n",
    "\n",
    "phi_1 = Basis(dQ1)  # piecewise linear \n",
    "phix_1 = Basis(dQ1,'ux')  # piecewise linear first partial w.r.t. x\n",
    "phiy_1 = Basis(dQ1,'uy')  # piecewise linear first partial w.r.t. y"
   ]
  },
  {
   "cell_type": "markdown",
   "metadata": {},
   "source": [
    "#### The Gaussian Field\n",
    "\n",
    "The ```gmrf``` module contains routines to generate a variety of Gaussian random fields.\n",
    "1. First, the covariance matrix is assembled from a bivariate kernel function using the ```Covariance``` class. The assembly is dependent on the mesh and approximation space (element) associated with the field. \n",
    "2. Next we compute its eigendecomposition.\n",
    "3. Finally we define a Gaussian random field using the ```GaussianField``` class, which allows us to sample, condition, etc.  \n",
    "4. Samples from the Gaussian field are given as vectors but we can use these to define ```Nodal``` interpolants on the given mesh.  "
   ]
  },
  {
   "cell_type": "code",
   "execution_count": 47,
   "metadata": {},
   "outputs": [
    {
     "data": {
      "image/png": "[encoded data removed]",
      "text/plain": [
       "<Figure size 432x288 with 2 Axes>"
      ]
     },
     "metadata": {
      "needs_background": "light"
     },
     "output_type": "display_data"
    }
   ],
   "source": [
    "from function import Nodal\n",
    "from gmrf import Covariance\n",
    "from gmrf import GaussianField\n",
    "import numpy as np\n",
    "\n",
    "#\n",
    "# Approximate Covariance Matrix\n",
    "# \n",
    "cov = Covariance(dQ0, name='gaussian', parameters={'l':0.01})\n",
    "cov.compute_eig_decomp()\n",
    "\n",
    "#\n",
    "# Define the Gaussian field\n",
    "# \n",
    "q = GaussianField(dQ0.n_dofs(), K=cov)\n",
    "\n",
    "\n",
    "# Sample Random field and store all samples in a Nodal DQ0 finite element function\n",
    "n_samples = 100\n",
    "eq = Nodal(basis=phi_0, data=np.exp(q.sample(n_samples)))\n",
    "\n",
    "#\n",
    "# Plot a single sample\n",
    "#\n",
    "plot.contour(eq, n_sample=20)"
   ]
  },
  {
   "cell_type": "markdown",
   "metadata": {},
   "source": [
    "#### Assembly\n",
    "\n",
    "The weak form of the elliptic PDE is given by\n",
    "\n",
    "\\begin{equation}\\label{eq:weak_form}\n",
    "\\iint_D \\exp(q) \\nabla u \\cdot \\nabla \\phi dx = \\iint_D 1 \\phi dx, \n",
    "\\end{equation}\n",
    "\n",
    "for any test function $\\phi$. Approximating $u = \\sum_j c_j \\phi_j$ in the Galerkin framework, we get $A c = b $, where\n",
    "\n",
    "\\begin{equation}\\label{eq:bilinear}\n",
    "A_{ij} = \\iint_D \\exp(q) \\nabla \\phi_j \\cdot \\nabla \\phi_i dx = \\iint_D \\exp(q) \\frac{\\partial \\phi_j}{\\partial x} \\frac{\\partial \\phi_i}{\\partial x} + \\exp(q)  \\frac{\\partial \\phi_j}{\\partial u}\\frac{\\partial \\phi_i}{\\partial y} dx\n",
    "\\end{equation}\n",
    "\n",
    "and \n",
    "\n",
    "\\begin{equation}\\label{eq:linear}\n",
    "b_i = \\iint_D \\phi_i dx. \n",
    "\\end{equation}\n",
    "\n",
    "The assembly therefore requires a bilinear form $A$ and a linear form $b$. We define each form with the ```Form``` class in the ```assembler``` module. \n",
    "\n",
    "Each form requires a ```Kernel``` function, possibly a ```test``` function, and possibly a ```trial``` function (both of which should be ```Basis``` functions). \n",
    "\n",
    "> For example, the linear form \\ref{eq:linear} is defined by ```Form(1, test=phi_1)```, while the bilinear form $\\iint_D \\exp(q) \\frac{\\partial \\phi_j}{\\partial x} \\frac{\\partial \\phi_i}{\\partial x}dx$ is stored as ```Form(eq, test=phix_1, trial=phix_1)```.\n",
    "\n",
    "1. The object ```Form(kernel)``` is assembled into a scalar. \n",
    "2. The linear form ```Form(kernel, test=phi_1)``` is assembled into a vector.\n",
    "3. The bilinear form ```Form(kernel, test=phix_1, trial=phix_1)``` is assembled into a sparse matrix.\n",
    "\n",
    "Some forms, such as $\\iint_R \\phi_i dx$ should only be assembled over a subdomain of the mesh. To do this, use ```Form(1, test=phi_1, flag='dmn')```, where ```dmn``` was the flag marking the region $R$ from earlier. \n",
    "\n",
    "\n",
    "> __REMARK:__ When the kernel is a function with multiple samples (such as our function ```eq```), then the relevant form is assembled for all samples.\n",
    "\n",
    "The ```Assembler``` class handles finite element assembly. For each problem you want to assemble, e.g. the elliptic problem, or the problem of computing $J$, you list all relevant bilinear, linear, and constant forms you need. The assembler will automatically add up the contributions of all bilinear forms into a sparse matrix, those of all the linear forms into a vector, and those of all the constant forms into a scalar. To assemble multiple problems, simply form a ```list``` of all relevant problems.   "
   ]
  },
  {
   "cell_type": "code",
   "execution_count": 48,
   "metadata": {},
   "outputs": [],
   "source": [
    "from assembler import Assembler\n",
    "from assembler import Kernel\n",
    "from assembler import Form\n",
    "\n",
    "# Define weak form of elliptic problem\n",
    "problem1 = [Form(eq, test=phix_1, trial=phix_1), \n",
    "            Form(eq, test=phiy_1, trial=phiy_1),\n",
    "            Form(1, test=phi_1)]\n",
    "\n",
    "# Define integration operator\n",
    "problem2 = [Form(1,test=phi_1,flag='dmn')]\n",
    "\n",
    "# Put them together in a list\n",
    "state = [problem1,problem2]    \n",
    "\n",
    "# Assemble system\n",
    "assembler = Assembler(state)  # initialize the assembler\n",
    "assembler.add_dirichlet('bnd', dir_fn=0, i_problem=0)  # add homogeneous Dirichlet conditions for problem 0  \n",
    "assembler.assemble()  # assemble\n"
   ]
  },
  {
   "cell_type": "markdown",
   "metadata": {},
   "source": [
    "The vector representing the integration operator $\\iint_R \\phi_i dx$ can be obtained by"
   ]
  },
  {
   "cell_type": "code",
   "execution_count": 49,
   "metadata": {},
   "outputs": [],
   "source": [
    "J = assembler.get_vector(i_problem=1)"
   ]
  },
  {
   "cell_type": "markdown",
   "metadata": {},
   "source": [
    "#### Solver\n",
    "\n",
    "To solve the elliptic equation, you simply specify the problem (default=0), the matrix sample (default=0), and the vector sample for the right hand side (default=0) you want to use, i.e."
   ]
  },
  {
   "cell_type": "code",
   "execution_count": 51,
   "metadata": {},
   "outputs": [
    {
     "data": {
      "image/png": "[encoded data removed]",
      "text/plain": [
       "<Figure size 432x288 with 2 Axes>"
      ]
     },
     "metadata": {
      "needs_background": "light"
     },
     "output_type": "display_data"
    }
   ],
   "source": [
    "# Solve system\n",
    "u_vec = assembler.solve(i_problem=0, i_matrix=20)\n",
    "\n",
    "# Define a finite element function using the solution vector\n",
    "u = Nodal(basis=phi_1, data=u_vec)\n",
    "\n",
    "# Plot\n",
    "plot.contour(u)"
   ]
  },
  {
   "cell_type": "markdown",
   "metadata": {},
   "source": [
    "#### Quantity of Interest\n",
    "\n",
    "We can now compute $J = \\iint_R u dx$ by taking dot product"
   ]
  },
  {
   "cell_type": "code",
   "execution_count": 41,
   "metadata": {},
   "outputs": [
    {
     "name": "stdout",
     "output_type": "stream",
     "text": [
      "0.0006180484835314365\n"
     ]
    }
   ],
   "source": [
    "J_sample = J.dot(u_vec)\n",
    "\n",
    "print(J_sample)"
   ]
  },
  {
   "cell_type": "markdown",
   "metadata": {},
   "source": [
    "## Multiresolution Approximation\n",
    "\n"
   ]
  },
  {
   "cell_type": "code",
   "execution_count": null,
   "metadata": {},
   "outputs": [],
   "source": []
  }
 ],
 "metadata": {
  "kernelspec": {
   "display_name": "Python 3",
   "language": "python",
   "name": "python3"
  },
  "language_info": {
   "codemirror_mode": {
    "name": "ipython",
    "version": 3
   },
   "file_extension": ".py",
   "mimetype": "text/x-python",
   "name": "python",
   "nbconvert_exporter": "python",
   "pygments_lexer": "ipython3",
   "version": "3.8.10"
  },
  "latex_envs": {
   "LaTeX_envs_menu_present": true,
   "autoclose": false,
   "autocomplete": true,
   "bibliofile": "biblio.bib",
   "cite_by": "apalike",
   "current_citInitial": 1,
   "eqLabelWithNumbers": true,
   "eqNumInitial": 1,
   "hotkeys": {
    "equation": "Ctrl-E",
    "itemize": "Ctrl-I"
   },
   "labels_anchors": false,
   "latex_user_defs": false,
   "report_style_numbering": false,
   "user_envs_cfg": false
  },
  "toc": {
   "base_numbering": 1,
   "nav_menu": {},
   "number_sections": true,
   "sideBar": true,
   "skip_h1_title": true,
   "title_cell": "Table of Contents",
   "title_sidebar": "Contents",
   "toc_cell": true,
   "toc_position": {},
   "toc_section_display": true,
   "toc_window_display": false
  }
 },
 "nbformat": 4,
 "nbformat_minor": 4
}
