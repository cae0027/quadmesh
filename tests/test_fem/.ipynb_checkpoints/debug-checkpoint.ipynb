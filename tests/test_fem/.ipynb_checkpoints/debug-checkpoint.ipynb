{
 "cells": [
  {
   "cell_type": "markdown",
   "metadata": {
    "toc": true
   },
   "source": [
    "<h1>Table of Contents<span class=\"tocSkip\"></span></h1>\n",
    "<div class=\"toc\"><ul class=\"toc-item\"></ul></div>"
   ]
  },
  {
   "cell_type": "code",
   "execution_count": 1,
   "metadata": {},
   "outputs": [],
   "source": [
    "# Set Path\n",
    "import sys\n",
    "sys.path.append('../../src/')"
   ]
  },
  {
   "cell_type": "code",
   "execution_count": 43,
   "metadata": {},
   "outputs": [],
   "source": [
    "%autoreload 2"
   ]
  },
  {
   "cell_type": "code",
   "execution_count": 2,
   "metadata": {},
   "outputs": [],
   "source": [
    "# Import Libraries\n",
    "from fem import Function\n",
    "from fem import QuadFE\n",
    "from fem import DofHandler\n",
    "from fem import Kernel\n",
    "from fem import Basis\n",
    "from fem import Form\n",
    "from fem import Assembler\n",
    "from fem import LinearSystem\n",
    "from plot import Plot\n",
    "from mesh import convert_to_array\n",
    "from mesh import QuadMesh\n",
    "from mesh import Mesh1D\n",
    "import matplotlib.pyplot as plt\n",
    "import scipy.sparse as sp\n",
    "import numpy as np"
   ]
  },
  {
   "cell_type": "code",
   "execution_count": 3,
   "metadata": {},
   "outputs": [],
   "source": [
    "% matplotlib inline\n",
    "plt.rcParams['figure.figsize'] = [7, 7]"
   ]
  },
  {
   "cell_type": "markdown",
   "metadata": {},
   "source": [
    "We test the system \n",
    "\n",
    "\\begin{equation}\\label{eq:elliptic}\n",
    "- u_{xx} - u_{yy} = 0 \n",
    "\\end{equation}\n",
    "\n",
    "subject to Dirichlet conditions\n",
    "\n",
    "\\begin{align}\n",
    "u(0,y) &= 0 \\label{eq:dirichlet_at_xis0}\\\\\n",
    "u(1,y) &= 1 \\label{eq:dirichlet_at_xis1}\n",
    "\\end{align}\n",
    "\n",
    "Whose exact solution is \n",
    "\n",
    "\\begin{equation}\n",
    "u_e(x,y) = x. \n",
    "\\end{equation}\n",
    "\n",
    "We use a Galerkin approximation with $Q_1$ elements."
   ]
  },
  {
   "cell_type": "code",
   "execution_count": 5,
   "metadata": {},
   "outputs": [],
   "source": [
    "#\n",
    "# Define the element\n",
    "#\n",
    "Q1 = QuadFE(2, 'Q1')"
   ]
  },
  {
   "cell_type": "markdown",
   "metadata": {},
   "source": [
    "Since we have already tested the assembly, we focus here on the linear system. In particular:\n",
    "\n",
    "- Marking and extracting Dirichlet boundary conditions\n",
    "- Extracting hanging nodes\n",
    "\n",
    "both by (i) eliminating the variables from the system (compressed=True) and (ii) by replacing affected equations with explicit Dirichlet data or interpolation formulae.  \n",
    "\n",
    "We first test solving with Dirichlet conditions. To that end we define our first mesh. "
   ]
  },
  {
   "cell_type": "code",
   "execution_count": 7,
   "metadata": {},
   "outputs": [],
   "source": [
    "mesh1 = QuadMesh(resolution=(2,2))"
   ]
  },
  {
   "cell_type": "markdown",
   "metadata": {},
   "source": [
    "To test ```extract_hanging_nodes``` and ```resolve_hanging_nodes``` we construct a simple mesh with hanging_nodes."
   ]
  },
  {
   "cell_type": "code",
   "execution_count": 10,
   "metadata": {},
   "outputs": [],
   "source": [
    "mesh2 = QuadMesh(resolution=(2,2))\n",
    "mesh2.cells.get_child(2).mark(1)\n",
    "mesh2.cells.refine(refinement_flag=1)"
   ]
  },
  {
   "cell_type": "markdown",
   "metadata": {},
   "source": [
    "For the assembly, we must define the bilinear form\n",
    "\n",
    "\\begin{equation}\n",
    "a(u,v) = \\int_\\Omega \\nabla u \\cdot \\nabla v dx =\\int_\\Omega u_x v_x + u_y v_y dx, \\ \\ \\  \\forall v \\in H^1_0(\\Omega)\n",
    "\\end{equation}\n",
    "\n",
    "and the linear form\n",
    "\n",
    "\\begin{equation}\n",
    "L(v) = \\int_\\Omega f v dx,  \\qquad \\ \\ \\  \\forall v \\in H_0^1(\\Omega)\n",
    "\\end{equation}\n",
    "\n",
    "where $\\Omega = [0,1]^2$ and $H^1_0(\\Omega) = \\{v\\in H^1(\\Omega): v(0,\\cdot) = v(1,\\cdot)=0\\}$\n",
    "\n"
   ]
  },
  {
   "cell_type": "code",
   "execution_count": 13,
   "metadata": {},
   "outputs": [],
   "source": [
    "#\n",
    "# Weak form\n",
    "#\n",
    "\n",
    "# Kernel functions \n",
    "one = Function(1, 'constant')\n",
    "zero = Function(0, 'constant')\n",
    "\n",
    "# Basis functions \n",
    "u = Basis(Q1, 'u')\n",
    "ux = Basis(Q1, 'ux')\n",
    "uy = Basis(Q1, 'uy')\n",
    "\n",
    "# Forms\n",
    "ax = Form(kernel=Kernel(one), trial=ux, test=ux)\n",
    "ay = Form(kernel=Kernel(one), trial=uy, test=uy)\n",
    "L = Form(kernel=Kernel(zero), test=u)\n",
    "\n",
    "# Assembler for mesh1\n",
    "assembler1 = Assembler([ax, ay, L], mesh1)\n",
    "assembler1.assemble()\n",
    "\n",
    "# Assembler for mesh2\n",
    "assembler2 = Assembler([ax,ay,L], mesh2)\n",
    "assembler2.assemble()"
   ]
  },
  {
   "cell_type": "markdown",
   "metadata": {},
   "source": [
    "Let's visualize the meshes. "
   ]
  },
  {
   "cell_type": "code",
   "execution_count": 14,
   "metadata": {},
   "outputs": [
    {
     "data": {
      "image/png": "[encoded data removed]",
      "text/plain": [
       "<Figure size 504x504 with 1 Axes>"
      ]
     },
     "metadata": {},
     "output_type": "display_data"
    },
    {
     "data": {
      "image/png": "[encoded data removed]",
      "text/plain": [
       "<Figure size 504x504 with 1 Axes>"
      ]
     },
     "metadata": {},
     "output_type": "display_data"
    }
   ],
   "source": [
    "# Get dofhandlers\n",
    "dh1 = assembler1.dofhandlers['Q1']\n",
    "dh2 = assembler2.dofhandlers['Q1']\n",
    "\n",
    "# Plotting mesh 1\n",
    "plot = Plot()\n",
    "plot.mesh(mesh1, dofhandler=dh1, dofs=True)\n",
    "\n",
    "\n",
    "# Plotting mesh 2\n",
    "plot = Plot()\n",
    "plot.mesh(mesh2, dofhandler=dh2, dofs=True)"
   ]
  },
  {
   "cell_type": "markdown",
   "metadata": {},
   "source": [
    "It looks like the following dofs from mesh1 and mesh2 are equivalent \n",
    "\n",
    "__mesh1 -> mesh2__\n",
    "- 0 -> 0\n",
    "- 1 -> 1\n",
    "- 4 -> 4\n",
    "- 5 -> 5\n",
    "- 8 -> 8\n",
    "\n",
    "If we restrict to these, we should get the same matrix."
   ]
  },
  {
   "cell_type": "code",
   "execution_count": 45,
   "metadata": {},
   "outputs": [
    {
     "name": "stdout",
     "output_type": "stream",
     "text": [
      "Mesh 1\n",
      "A1 = \n",
      " [[ 4. -1. -2. -1.  0.  0.  0.  0.  0.]\n",
      " [-1.  8. -2. -2. -1. -2.  0.  0.  0.]\n",
      " [-2. -2. 16. -2. -2. -2. -2. -2. -2.]\n",
      " [-1. -2. -2.  8.  0.  0. -2. -1.  0.]\n",
      " [ 0. -1. -2.  0.  4. -1.  0.  0.  0.]\n",
      " [ 0. -2. -2.  0. -1.  8. -2.  0. -1.]\n",
      " [ 0.  0. -2. -2.  0. -2.  8. -1. -1.]\n",
      " [ 0.  0. -2. -1.  0.  0. -1.  4.  0.]\n",
      " [ 0.  0. -2.  0.  0. -1. -1.  0.  4.]]\n",
      "b1 = \n",
      " [0. 0. 0. 0. 0. 0. 0. 0. 0.]\n",
      "n_dofs= 9\n",
      "============================================================\n",
      "Mesh 2\n",
      "A2 = \n",
      " [[ 4. -1. -2. -1.  0.  0.  0.  0.  0.  0.  0.  0.  0.  0.]\n",
      " [-1.  8. -2. -2. -1. -2.  0.  0.  0.  0.  0.  0.  0.  0.]\n",
      " [-2. -2. 16. -1. -2. -2. -1.  0. -2. -1. -2.  0. -1.  0.]\n",
      " [-1. -2. -1.  8.  0.  0.  0.  0.  0. -1. -2. -1.  0.  0.]\n",
      " [ 0. -1. -2.  0.  4. -1.  0.  0.  0.  0.  0.  0.  0.  0.]\n",
      " [ 0. -2. -2.  0. -1.  8. -2.  0. -1.  0.  0.  0.  0.  0.]\n",
      " [ 0.  0. -1.  0.  0. -2.  8.  0. -1.  0. -2.  0. -1. -1.]\n",
      " [ 0.  0.  0.  0.  0.  0.  0.  4.  0.  0. -2. -1.  0. -1.]\n",
      " [ 0.  0. -2.  0.  0. -1. -1.  0.  4.  0.  0.  0.  0.  0.]\n",
      " [ 0.  0. -1. -1.  0.  0.  0.  0.  0.  8. -2. -2. -2.  0.]\n",
      " [ 0.  0. -2. -2.  0.  0. -2. -2.  0. -2. 16. -2. -2. -2.]\n",
      " [ 0.  0.  0. -1.  0.  0.  0. -1.  0. -2. -2.  8.  0. -2.]\n",
      " [ 0.  0. -1.  0.  0.  0. -1.  0.  0. -2. -2.  0.  8. -2.]\n",
      " [ 0.  0.  0.  0.  0.  0. -1. -1.  0.  0. -2. -2. -2.  8.]]\n",
      "b2 = \n",
      " [0. 0. 0. 0. 0. 0. 0. 0. 0.]\n",
      "n_dofs= 14\n"
     ]
    }
   ],
   "source": [
    "# Assembled matrices\n",
    "\n",
    "# Mesh1 \n",
    "\n",
    "# bilinear\n",
    "rows = assembler1.af[0]['bilinear']['rows']\n",
    "cols = assembler1.af[0]['bilinear']['cols']\n",
    "vals = assembler1.af[0]['bilinear']['vals']\n",
    "dofs = assembler1.af[0]['bilinear']['row_dofs']\n",
    "A1 = sp.coo_matrix((vals, (rows, cols)))\n",
    "A1 = A1.todense()\n",
    "\n",
    "# linear\n",
    "b1 = assembler1.af[0]['linear']['vals']\n",
    "\n",
    "# number of dofs \n",
    "n = len(dofs)\n",
    "\n",
    "# Print\n",
    "print('Mesh 1')\n",
    "print('A1 = \\n', 6*A1)\n",
    "print('b1 = \\n', 6*b1)\n",
    "print('n_dofs=', n)\n",
    "\n",
    "print('='*60)\n",
    "\n",
    "#\n",
    "# Mesh2 \n",
    "# \n",
    "\n",
    "# bilinear\n",
    "rows = assembler2.af[0]['bilinear']['rows']\n",
    "cols = assembler2.af[0]['bilinear']['cols']\n",
    "vals = assembler2.af[0]['bilinear']['vals']\n",
    "dofs = assembler2.af[0]['bilinear']['row_dofs']\n",
    "A2 = sp.coo_matrix((vals, (rows, cols)))\n",
    "A2 = A2.todense()\n",
    "# linear\n",
    "b2 = assembler1.af[0]['linear']['vals']\n",
    "\n",
    "# number of dofs \n",
    "n = len(dofs)\n",
    "\n",
    "# Print\n",
    "print('Mesh 2')\n",
    "print('A2 = \\n', 6*A2)\n",
    "print('b2 = \\n', 6*b2)\n",
    "print('n_dofs=', n)"
   ]
  },
  {
   "cell_type": "markdown",
   "metadata": {},
   "source": [
    "Check that ```A1``` and ```A2``` coincide when restricting to the nodes"
   ]
  },
  {
   "cell_type": "code",
   "execution_count": 38,
   "metadata": {},
   "outputs": [
    {
     "name": "stdout",
     "output_type": "stream",
     "text": [
      "[[0. 0. 0. 0. 0.]\n",
      " [0. 0. 0. 0. 0.]\n",
      " [0. 0. 0. 0. 0.]\n",
      " [0. 0. 0. 0. 0.]\n",
      " [0. 0. 0. 0. 0.]]\n"
     ]
    }
   ],
   "source": [
    "print(A1[np.ix_([0,1,4,5,8],[0,1,4,5,8])] - A2[np.ix_([0,1,4,5,8],[0,1,4,5,8])])"
   ]
  },
  {
   "cell_type": "code",
   "execution_count": 64,
   "metadata": {
    "scrolled": false
   },
   "outputs": [],
   "source": [
    "# System for mesh1\n",
    "system1 = LinearSystem(assembler1)"
   ]
  },
  {
   "cell_type": "code",
   "execution_count": 44,
   "metadata": {},
   "outputs": [],
   "source": [
    "# Check that it's the same as before\n",
    "assert np.allclose(A1, system1.A().todense())"
   ]
  },
  {
   "cell_type": "markdown",
   "metadata": {},
   "source": [
    "Mark Dirichlet Regions on Meshes"
   ]
  },
  {
   "cell_type": "code",
   "execution_count": 62,
   "metadata": {},
   "outputs": [
    {
     "name": "stdout",
     "output_type": "stream",
     "text": [
      "mesh1:  left\n",
      "(0.0, 1.0)\n",
      "(0.0, 0.0)\n",
      "(0.0, 0.5)\n",
      "\n",
      "mesh2:  left\n",
      "(0.0, 1.0)\n",
      "(0.0, 0.0)\n",
      "(0.0, 0.75)\n",
      "(0.0, 0.5)\n",
      "\n",
      "\n",
      "\n",
      "mesh1:  right\n",
      "(1.0, 1.0)\n",
      "(1.0, 0.0)\n",
      "(1.0, 0.5)\n",
      "\n",
      "mesh2:  right\n",
      "(1.0, 1.0)\n",
      "(1.0, 0.0)\n",
      "(1.0, 0.5)\n",
      "\n",
      "\n",
      "\n"
     ]
    }
   ],
   "source": [
    "# Mark Dirichlet Regions\n",
    "f_left = lambda x,dummy: np.abs(x)<1e-9\n",
    "f_right = lambda x,dummy: np.abs(x-1)<1e-9\n",
    "\n",
    "# Mesh 1\n",
    "mesh1.mark_region('left', f_left, on_boundary=True)\n",
    "mesh1.mark_region('right', f_right, on_boundary=True)\n",
    "\n",
    "# Mesh 2\n",
    "mesh2.mark_region('left', f_left, on_boundary=True)\n",
    "mesh2.mark_region('right', f_right, on_boundary=True)\n",
    "\n",
    "#\n",
    "# Check that we get the correct vertices back\n",
    "#\n",
    "for side in ['left', 'right']:\n",
    "    # mesh1\n",
    "    print('mesh1: ', side)\n",
    "    for v in mesh1.get_region(side, entity_type='vertex', \\\n",
    "                          on_boundary=True, return_cells=False):\n",
    "        print(v.coordinates())\n",
    " \n",
    "    print('')\n",
    "    \n",
    "    # mesh2\n",
    "    print('mesh2: ', side)\n",
    "    for v in mesh2.get_region(side, entity_type='vertex', \\\n",
    "                              on_boundary=True, return_cells=False):\n",
    "        print(v.coordinates())\n",
    "        \n",
    "        \n",
    "    print('\\n\\n')"
   ]
  },
  {
   "cell_type": "markdown",
   "metadata": {},
   "source": [
    "Now extract Dirichlet nodes"
   ]
  },
  {
   "cell_type": "code",
   "execution_count": 70,
   "metadata": {},
   "outputs": [
    {
     "name": "stdout",
     "output_type": "stream",
     "text": [
      "System matrix and vector before left Dirichlet nodes\n",
      "6A = \n",
      " [[ 4. -1. -2. -1.  0.  0.  0.  0.  0.]\n",
      " [-1.  8. -2. -2. -1. -2.  0.  0.  0.]\n",
      " [-2. -2. 16. -2. -2. -2. -2. -2. -2.]\n",
      " [-1. -2. -2.  8.  0.  0. -2. -1.  0.]\n",
      " [ 0. -1. -2.  0.  4. -1.  0.  0.  0.]\n",
      " [ 0. -2. -2.  0. -1.  8. -2.  0. -1.]\n",
      " [ 0.  0. -2. -2.  0. -2.  8. -1. -1.]\n",
      " [ 0.  0. -2. -1.  0.  0. -1.  4.  0.]\n",
      " [ 0.  0. -2.  0.  0. -1. -1.  0.  4.]]\n",
      "6b = \n",
      " [ 0.  6. 12.  0.  6.  6.  6.  0.  6.]\n",
      "Extracting Dirichlet nodes on left\n",
      "n_dofs 9\n",
      "dirichlet dofs [0, 3, 7]\n",
      "dirichlet vals [0. 0. 0.]\n",
      "Dirichlet Dof? 0\n",
      "0 dirichlet row\n",
      "assigning 0.0 to entry 0\n",
      "b= [0. 1. 2. 0. 1. 1. 1. 0. 1.]\n",
      "Dirichlet Dof? 1\n",
      "Dirichlet Dof? 2\n",
      "Dirichlet Dof? 3\n",
      "3 dirichlet row\n",
      "assigning 0.0 to entry 3\n",
      "b= [0. 1. 2. 0. 1. 1. 1. 0. 1.]\n",
      "Dirichlet Dof? 4\n",
      "Dirichlet Dof? 5\n",
      "Dirichlet Dof? 6\n",
      "Dirichlet Dof? 7\n",
      "7 dirichlet row\n",
      "assigning 0.0 to entry 7\n",
      "b= [0. 1. 2. 0. 1. 1. 1. 0. 1.]\n",
      "Dirichlet Dof? 8\n",
      "\n",
      "6A = \n",
      " [[ 6.  0.  0.  0.  0.  0.  0.  0.  0.]\n",
      " [ 0.  8. -2.  0. -1. -2.  0.  0.  0.]\n",
      " [ 0. -2. 16.  0. -2. -2. -2.  0. -2.]\n",
      " [ 0.  0.  0.  6.  0.  0.  0.  0.  0.]\n",
      " [ 0. -1. -2.  0.  4. -1.  0.  0.  0.]\n",
      " [ 0. -2. -2.  0. -1.  8. -2.  0. -1.]\n",
      " [ 0.  0. -2.  0.  0. -2.  8.  0. -1.]\n",
      " [ 0.  0.  0.  0.  0.  0.  0.  6.  0.]\n",
      " [ 0.  0. -2.  0.  0. -1. -1.  0.  4.]]\n",
      "6b = \n",
      " [ 0.  6. 12.  0.  6.  6.  6.  0.  6.]\n",
      "\n",
      "\n",
      "\n",
      "Extracting Dirichlet nodes on right\n",
      "n_dofs 9\n",
      "dirichlet dofs [8, 4, 5]\n",
      "dirichlet vals [1. 1. 1.]\n",
      "Dirichlet Dof? 0\n",
      "Dirichlet Dof? 1\n",
      "Dirichlet Dof? 2\n",
      "Dirichlet Dof? 3\n",
      "Dirichlet Dof? 4\n",
      "4 dirichlet row\n",
      "assigning 1.0 to entry 4\n",
      "b= [0.  1.5 3.  0.  1.  1.  1.  0.  1. ]\n",
      "Dirichlet Dof? 5\n",
      "5 dirichlet row\n",
      "assigning 1.0 to entry 5\n",
      "b= [0.  1.5 3.  0.  1.  1.  1.  0.  1. ]\n",
      "Dirichlet Dof? 6\n",
      "Dirichlet Dof? 7\n",
      "Dirichlet Dof? 8\n",
      "8 dirichlet row\n",
      "assigning 1.0 to entry 8\n",
      "b= [0.  1.5 3.  0.  1.  1.  1.5 0.  1. ]\n",
      "\n",
      "6A = \n",
      " [[ 6.  0.  0.  0.  0.  0.  0.  0.  0.]\n",
      " [ 0.  8. -2.  0.  0.  0.  0.  0.  0.]\n",
      " [ 0. -2. 16.  0.  0.  0. -2.  0.  0.]\n",
      " [ 0.  0.  0.  6.  0.  0.  0.  0.  0.]\n",
      " [ 0.  0.  0.  0.  6.  0.  0.  0.  0.]\n",
      " [ 0.  0.  0.  0.  0.  6.  0.  0.  0.]\n",
      " [ 0.  0. -2.  0.  0.  0.  8.  0.  0.]\n",
      " [ 0.  0.  0.  0.  0.  0.  0.  6.  0.]\n",
      " [ 0.  0.  0.  0.  0.  0.  0.  0.  6.]]\n",
      "6b = \n",
      " [ 0.  9. 18.  0.  6.  6.  9.  0.  6.]\n"
     ]
    }
   ],
   "source": [
    "#\n",
    "# Extract Dirichlet conditions (uncompressed format)\n",
    "#\n",
    "\n",
    "system1a = LinearSystem(assembler1, compressed=False)\n",
    "\n",
    "print('System matrix and vector before left Dirichlet nodes')\n",
    "\n",
    "print('6A = \\n', 6*system1a.A().todense())\n",
    "print('6b = \\n', 6*system1a.b() )\n",
    "\n",
    "print('Extracting Dirichlet nodes on left')\n",
    "system1a.extract_dirichlet_nodes('left', 0)\n",
    "\n",
    "print('')\n",
    "\n",
    "print('6A = \\n', 6*system1a.A().todense())\n",
    "print('6b = \\n', 6*system1a.b() )\n",
    "\n",
    "print('\\n\\n')\n",
    "\n",
    "print('Extracting Dirichlet nodes on right')\n",
    "system1a.extract_dirichlet_nodes('right',1)\n",
    "\n",
    "print('')\n",
    "\n",
    "print('6A = \\n', 6*system1a.A().todense())\n",
    "print('6b = \\n', 6*system1a.b() )"
   ]
  },
  {
   "cell_type": "code",
   "execution_count": 73,
   "metadata": {},
   "outputs": [
    {
     "name": "stdout",
     "output_type": "stream",
     "text": [
      "System matrix and vector before left Dirichlet nodes\n",
      "6A = \n",
      " [[ 4. -1. -2. -1.  0.  0.  0.  0.  0.]\n",
      " [-1.  8. -2. -2. -1. -2.  0.  0.  0.]\n",
      " [-2. -2. 16. -2. -2. -2. -2. -2. -2.]\n",
      " [-1. -2. -2.  8.  0.  0. -2. -1.  0.]\n",
      " [ 0. -1. -2.  0.  4. -1.  0.  0.  0.]\n",
      " [ 0. -2. -2.  0. -1.  8. -2.  0. -1.]\n",
      " [ 0.  0. -2. -2.  0. -2.  8. -1. -1.]\n",
      " [ 0.  0. -2. -1.  0.  0. -1.  4.  0.]\n",
      " [ 0.  0. -2.  0.  0. -1. -1.  0.  4.]]\n",
      "6b = \n",
      " [ 0.  9. 18.  0.  6.  6.  9.  0.  6.]\n",
      "Extracting Dirichlet nodes on left\n",
      "n_dofs 9\n",
      "dirichlet dofs [0, 3, 7]\n",
      "dirichlet vals [0. 0. 0.]\n",
      "\n",
      "6A = \n",
      " [[ 8. -2. -1. -2.  0.  0.]\n",
      " [-2. 16. -2. -2. -2. -2.]\n",
      " [-1. -2.  4. -1.  0.  0.]\n",
      " [-2. -2. -1.  8. -2. -1.]\n",
      " [ 0. -2.  0. -2.  8. -1.]\n",
      " [ 0. -2.  0. -1. -1.  4.]]\n",
      "6b = \n",
      " [ 9. 18.  6.  6.  9.  6.]\n",
      "\n",
      "\n",
      "\n",
      "Extracting Dirichlet nodes on right\n",
      "n_dofs 9\n",
      "dirichlet dofs [8, 4, 5]\n",
      "dirichlet vals [1. 1. 1.]\n",
      "\n",
      "6A = \n",
      " [[ 8. -2.  0.]\n",
      " [-2. 16. -2.]\n",
      " [ 0. -2.  8.]]\n",
      "6b = \n",
      " [12. 24. 12.]\n"
     ]
    }
   ],
   "source": [
    "#\n",
    "# Extract Dirichlet conditions (compressed format)\n",
    "#\n",
    "\n",
    "system1b = LinearSystem(assembler1, compressed=True)\n",
    "\n",
    "print('System matrix and vector before left Dirichlet nodes')\n",
    "\n",
    "print('6A = \\n', 6*system1b.A().todense())\n",
    "print('6b = \\n', 6*system1b.b() )\n",
    "\n",
    "print('Extracting Dirichlet nodes on left')\n",
    "system1b.extract_dirichlet_nodes('left', 0)\n",
    "\n",
    "print('')\n",
    "\n",
    "print('6A = \\n', 6*system1b.A().todense())\n",
    "print('6b = \\n', 6*system1b.b() )\n",
    "\n",
    "print('\\n\\n')\n",
    "\n",
    "print('Extracting Dirichlet nodes on right')\n",
    "system1b.extract_dirichlet_nodes('right',1)\n",
    "\n",
    "print('')\n",
    "\n",
    "print('6A = \\n', 6*system1b.A().todense())\n",
    "print('6b = \\n', 6*system1b.b() )"
   ]
  },
  {
   "cell_type": "code",
   "execution_count": 75,
   "metadata": {},
   "outputs": [
    {
     "ename": "TypeError",
     "evalue": "solve() got an unexpected keyword argument 'as_function'",
     "output_type": "error",
     "traceback": [
      "\u001b[0;31m---------------------------------------------------------------------------\u001b[0m",
      "\u001b[0;31mTypeError\u001b[0m                                 Traceback (most recent call last)",
      "\u001b[0;32m<ipython-input-75-846c24dd9c87>\u001b[0m in \u001b[0;36m<module>\u001b[0;34m()\u001b[0m\n\u001b[1;32m      2\u001b[0m \u001b[0;31m# Check solutions\u001b[0m\u001b[0;34m\u001b[0m\u001b[0;34m\u001b[0m\u001b[0m\n\u001b[1;32m      3\u001b[0m \u001b[0;31m#\u001b[0m\u001b[0;34m\u001b[0m\u001b[0;34m\u001b[0m\u001b[0m\n\u001b[0;32m----> 4\u001b[0;31m \u001b[0mu1a\u001b[0m \u001b[0;34m=\u001b[0m \u001b[0msystem1a\u001b[0m\u001b[0;34m.\u001b[0m\u001b[0msolve\u001b[0m\u001b[0;34m(\u001b[0m\u001b[0mas_function\u001b[0m\u001b[0;34m=\u001b[0m\u001b[0;32mTrue\u001b[0m\u001b[0;34m)\u001b[0m\u001b[0;34m\u001b[0m\u001b[0m\n\u001b[0m\u001b[1;32m      5\u001b[0m \u001b[0mplot\u001b[0m \u001b[0;34m=\u001b[0m \u001b[0mPlot\u001b[0m\u001b[0;34m(\u001b[0m\u001b[0;34m)\u001b[0m\u001b[0;34m\u001b[0m\u001b[0m\n\u001b[1;32m      6\u001b[0m \u001b[0mplot\u001b[0m\u001b[0;34m.\u001b[0m\u001b[0mwire\u001b[0m\u001b[0;34m(\u001b[0m\u001b[0mu1a\u001b[0m\u001b[0;34m)\u001b[0m\u001b[0;34m\u001b[0m\u001b[0m\n",
      "\u001b[0;31mTypeError\u001b[0m: solve() got an unexpected keyword argument 'as_function'"
     ]
    }
   ],
   "source": [
    "#\n",
    "# Check solutions \n",
    "# \n",
    "system1a.solve()\n",
    "u1a = system1a.sol(as_function=True)\n",
    "plot = Plot()\n",
    "plot.wire(u1a)"
   ]
  },
  {
   "cell_type": "code",
   "execution_count": null,
   "metadata": {},
   "outputs": [],
   "source": [
    "# "
   ]
  }
 ],
 "metadata": {
  "kernelspec": {
   "display_name": "Python 3",
   "language": "python",
   "name": "python3"
  },
  "language_info": {
   "codemirror_mode": {
    "name": "ipython",
    "version": 3
   },
   "file_extension": ".py",
   "mimetype": "text/x-python",
   "name": "python",
   "nbconvert_exporter": "python",
   "pygments_lexer": "ipython3",
   "version": "3.6.6"
  },
  "latex_envs": {
   "LaTeX_envs_menu_present": true,
   "autoclose": false,
   "autocomplete": false,
   "bibliofile": "biblio.bib",
   "cite_by": "apalike",
   "current_citInitial": 1,
   "eqLabelWithNumbers": true,
   "eqNumInitial": 1,
   "hotkeys": {
    "equation": "Ctrl-E",
    "itemize": "Ctrl-I"
   },
   "labels_anchors": false,
   "latex_user_defs": false,
   "report_style_numbering": false,
   "user_envs_cfg": true
  },
  "toc": {
   "nav_menu": {},
   "number_sections": true,
   "sideBar": true,
   "skip_h1_title": true,
   "title_cell": "Table of Contents",
   "title_sidebar": "Contents",
   "toc_cell": true,
   "toc_position": {},
   "toc_section_display": true,
   "toc_window_display": false
  },
  "varInspector": {
   "cols": {
    "lenName": 16,
    "lenType": 16,
    "lenVar": 40
   },
   "kernels_config": {
    "python": {
     "delete_cmd_postfix": "",
     "delete_cmd_prefix": "del ",
     "library": "var_list.py",
     "varRefreshCmd": "print(var_dic_list())"
    },
    "r": {
     "delete_cmd_postfix": ") ",
     "delete_cmd_prefix": "rm(",
     "library": "var_list.r",
     "varRefreshCmd": "cat(var_dic_list()) "
    }
   },
   "types_to_exclude": [
    "module",
    "function",
    "builtin_function_or_method",
    "instance",
    "_Feature"
   ],
   "window_display": false
  }
 },
 "nbformat": 4,
 "nbformat_minor": 2
}
